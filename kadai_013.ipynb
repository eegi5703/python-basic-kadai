{
  "cells": [
    {
      "cell_type": "code",
      "execution_count": 1,
      "metadata": {
        "colab": {
          "base_uri": "https://localhost:8080/"
        },
        "id": "wgIpxdMB7_Rt",
        "outputId": "e441ba19-e7be-4a86-8aae-a0fcf7b28d93"
      },
      "outputs": [
        {
          "name": "stdout",
          "output_type": "stream",
          "text": [
            "1320.0円\n"
          ]
        }
      ],
      "source": [
        "def price_tax(price, tax):\n",
        "    total = price + (price * tax / 100)\n",
        "\n",
        "    print(f\"{total}円\")\n",
        "\n",
        "price_tax(1200, 10)\n",
        "\n"
      ]
    }
  ],
  "metadata": {
    "colab": {
      "provenance": []
    },
    "kernelspec": {
      "display_name": "Python 3",
      "name": "python3"
    },
    "language_info": {
      "name": "python"
    }
  },
  "nbformat": 4,
  "nbformat_minor": 0
}
