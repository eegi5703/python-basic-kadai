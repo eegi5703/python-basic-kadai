{
  "cells": [
    {
      "cell_type": "code",
      "execution_count": 8,
      "metadata": {
        "colab": {
          "base_uri": "https://localhost:8080/"
        },
        "id": "K6tKRbMKpRV_",
        "outputId": "f6b37597-7cce-47e3-e618-30652c171446"
      },
      "outputs": [
        {
          "name": "stdout",
          "output_type": "stream",
          "text": [
            "Buzz\n"
          ]
        }
      ],
      "source": [
        "var = 10\n",
        "if var % 3 == 0 and var % 5 == 0:\n",
        "    print(\"Fizzbuzz\")\n",
        "elif var % 5 == 0:\n",
        "    print(\"Buzz\")\n",
        "elif var % 3 == 0:\n",
        "    print(\"Fizz\")\n",
        "else:\n",
        "    print(var)\n"
      ]
    },
    {
      "cell_type": "markdown",
      "metadata": {
        "id": "lNExdvF8q327"
      },
      "source": []
    }
  ],
  "metadata": {
    "colab": {
      "provenance": []
    },
    "kernelspec": {
      "display_name": "Python 3",
      "name": "python3"
    },
    "language_info": {
      "name": "python"
    }
  },
  "nbformat": 4,
  "nbformat_minor": 0
}
