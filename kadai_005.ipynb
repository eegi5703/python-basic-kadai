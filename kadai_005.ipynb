{
  "nbformat": 4,
  "nbformat_minor": 0,
  "metadata": {
    "colab": {
      "provenance": []
    },
    "kernelspec": {
      "name": "python3",
      "display_name": "Python 3"
    },
    "language_info": {
      "name": "python"
    }
  },
  "cells": [
    {
      "cell_type": "code",
      "source": [
        "top_line = 10\n",
        "botom_line = 20\n",
        "high_line = 5\n",
        "area =((top_line + botom_line) * high_line / 2)\n",
        "\n",
        "print(f\"上辺：{top_line}cm\")\n",
        "print(f\"下辺：{botom_line}cm\")\n",
        "print(f\"高さ：{high_line}cm\")\n",
        "\n",
        "print(\"公式：台形の面積 = （上辺+下辺）× 高さ ÷ \" + str(2))\n",
        "print(str(area) + \"㎠\")"
      ],
      "metadata": {
        "colab": {
          "base_uri": "https://localhost:8080/"
        },
        "id": "2Xu8oo3o5a2b",
        "outputId": "fb2f50ab-145a-4633-891c-6eb7aab9bb60"
      },
      "execution_count": 39,
      "outputs": [
        {
          "output_type": "stream",
          "name": "stdout",
          "text": [
            "上辺：10cm\n",
            "下辺：20cm\n",
            "高さ：5cm\n",
            "公式：台形の面積 = （上辺+下辺）× 高さ ÷ 2\n",
            "75.0㎠\n"
          ]
        }
      ]
    }
  ]
}